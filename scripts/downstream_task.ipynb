{
 "cells": [
  {
   "cell_type": "code",
   "execution_count": 53,
   "id": "033b3078-767b-44c6-b5ee-6b97d6d38007",
   "metadata": {},
   "outputs": [],
   "source": [
    "import pandas as pd\n",
    "import xgboost as xgb\n",
    "from sklearn.metrics import root_mean_squared_error, mean_absolute_percentage_error"
   ]
  },
  {
   "cell_type": "code",
   "execution_count": 66,
   "id": "ee388c14-d443-43cd-9b88-923ff9cfdc65",
   "metadata": {},
   "outputs": [
    {
     "data": {
      "text/plain": [
       "25371"
      ]
     },
     "execution_count": 66,
     "metadata": {},
     "output_type": "execute_result"
    }
   ],
   "source": [
    "len(pd.read_csv(\"data/test_impute_all.csv\"))"
   ]
  },
  {
   "cell_type": "code",
   "execution_count": 67,
   "id": "851a44a6-77a2-4fd7-8934-b10c1064880f",
   "metadata": {},
   "outputs": [
    {
     "data": {
      "text/plain": [
       "61953"
      ]
     },
     "execution_count": 67,
     "metadata": {},
     "output_type": "execute_result"
    }
   ],
   "source": [
    "len(pd.read_csv(\"data/test.csv\"))"
   ]
  },
  {
   "cell_type": "code",
   "execution_count": 153,
   "id": "f1617f9d-ae0e-443f-b866-9874f6e4040f",
   "metadata": {},
   "outputs": [],
   "source": [
    "def test(df):\n",
    "    df[\"label\"] = pd.read_csv(\"data/test_orig_all.csv\")[\"Crt3\"]\n",
    "    train = df.sample(frac=0.8, random_state=42)\n",
    "    test = df.drop(train.index)\n",
    "    \n",
    "    y_train = train[\"label\"].to_numpy()\n",
    "    y_test = test[\"label\"].to_numpy()\n",
    "    \n",
    "    train = train.drop(columns=[\"Crt0\", \"Crt1\", \"Crt2\", \"Crt3\", \"label\", \"hadm_id\", \"Unnamed: 0\"]).to_numpy()\n",
    "    test = test.drop(columns=[\"Crt0\", \"Crt1\", \"Crt2\", \"Crt3\", \"label\", \"hadm_id\", \"Unnamed: 0\"]).to_numpy()\n",
    "\n",
    "    reg = xgb.XGBRegressor()\n",
    "    reg.fit(train, y_train)\n",
    "    pred = reg.predict(test)\n",
    "\n",
    "    x = []\n",
    "    y = []\n",
    "    for a, b in zip(y_test, pred):\n",
    "        if a == 0:\n",
    "            continue\n",
    "        x.append(a)\n",
    "        y.append(b)\n",
    "    \n",
    "    return root_mean_squared_error(y_test, pred), mean_absolute_percentage_error(x, y)"
   ]
  },
  {
   "cell_type": "code",
   "execution_count": 154,
   "id": "219efc43-a816-4ec5-894a-02af31018e1d",
   "metadata": {},
   "outputs": [
    {
     "data": {
      "text/plain": [
       "(0.013887552947283567, 0.36070546982261226)"
      ]
     },
     "execution_count": 154,
     "metadata": {},
     "output_type": "execute_result"
    }
   ],
   "source": [
    "test(pd.read_csv(\"data/test_orig_all.csv\"))"
   ]
  },
  {
   "cell_type": "code",
   "execution_count": 155,
   "id": "928206a6-d46a-4352-b3a2-33150bf4cec8",
   "metadata": {},
   "outputs": [
    {
     "data": {
      "text/plain": [
       "(0.016688449111963287, 0.44261377822009274)"
      ]
     },
     "execution_count": 155,
     "metadata": {},
     "output_type": "execute_result"
    }
   ],
   "source": [
    "test(pd.read_csv(\"data/test_impute_all.csv\"))"
   ]
  },
  {
   "cell_type": "code",
   "execution_count": 180,
   "id": "6d42861f-86b8-4943-af82-e7ec9475b27b",
   "metadata": {},
   "outputs": [],
   "source": [
    "from ast import literal_eval\n",
    "\n",
    "def reformat(df):\n",
    "    o = pd.read_csv(\"data/test_orig_all.csv\").set_index(\"hadm_id\")\n",
    "    df = df.set_index(\"hadm_id\")\n",
    "    df = df.loc[o.index]\n",
    "    d = []\n",
    "    \n",
    "    for i, row in df.iterrows():\n",
    "        r = {\"hadm_id\": i}\n",
    "        for c in ['Bic', 'Crt', 'Pot', 'Sod', 'Ure', 'Hgb', 'Plt', 'Wbc']:\n",
    "            l = literal_eval(row[c])\n",
    "            for j in range(4):\n",
    "                r[c + str(j)] = l[j]\n",
    "        r[\"gender\"] = o.loc[i][\"gender\"]\n",
    "        r[\"age\"] = o.loc[i][\"age\"]\n",
    "        r[\"weight\"] = o.loc[i][\"weight\"]\n",
    "        r[\"Unnamed: 0\"] = i\n",
    "        d.append(r)\n",
    "        \n",
    "    return pd.DataFrame(d)"
   ]
  },
  {
   "cell_type": "code",
   "execution_count": 156,
   "id": "69ae6dda-bf0a-4187-82cc-26aada9c72ee",
   "metadata": {},
   "outputs": [
    {
     "data": {
      "text/plain": [
       "(0.013827568032816893, 0.3725005580903613)"
      ]
     },
     "execution_count": 156,
     "metadata": {},
     "output_type": "execute_result"
    }
   ],
   "source": [
    "test(reformat(pd.read_csv(\"data/medianImputedData_filtered.csv\")))"
   ]
  },
  {
   "cell_type": "code",
   "execution_count": 157,
   "id": "94d5aa03-aa91-4112-9350-2ef4eca76c86",
   "metadata": {},
   "outputs": [
    {
     "data": {
      "text/plain": [
       "(0.013938187817125445, 0.3765561901679022)"
      ]
     },
     "execution_count": 157,
     "metadata": {},
     "output_type": "execute_result"
    }
   ],
   "source": [
    "test(reformat(pd.read_csv(\"data/meanImputedData_filtered.csv\")))"
   ]
  },
  {
   "cell_type": "code",
   "execution_count": 158,
   "id": "3960c5ff-6293-4560-8ae0-6944ac1dd606",
   "metadata": {},
   "outputs": [
    {
     "data": {
      "text/plain": [
       "(0.015753858220020196, 0.4272414193806784)"
      ]
     },
     "execution_count": 158,
     "metadata": {},
     "output_type": "execute_result"
    }
   ],
   "source": [
    "test(reformat(pd.read_csv(\"data/ffillImputedData_filtered.csv\")))"
   ]
  },
  {
   "cell_type": "code",
   "execution_count": 181,
   "id": "bec52f32-ce86-415b-a7c2-05f727baed25",
   "metadata": {},
   "outputs": [
    {
     "data": {
      "text/plain": [
       "(0.014917234517318554, 0.40566447388530585)"
      ]
     },
     "execution_count": 181,
     "metadata": {},
     "output_type": "execute_result"
    }
   ],
   "source": [
    "test(pd.read_csv(\"data/miceImputedData_filtered.csv\"))"
   ]
  },
  {
   "cell_type": "code",
   "execution_count": 184,
   "id": "cf26ad3f-3e4b-4444-98ac-9a58fd3f0671",
   "metadata": {},
   "outputs": [
    {
     "data": {
      "text/plain": [
       "(0.01479750284414462, 0.35406361676777887)"
      ]
     },
     "execution_count": 184,
     "metadata": {},
     "output_type": "execute_result"
    }
   ],
   "source": [
    "df = pd.read_csv(\"data/bert_imputed_data.csv\").set_index(\"hadm_id\").drop(columns=[\"Unnamed: 0.1\", \"Time0\", \"Time1\", \"Time2\", \"Time3\"])\n",
    "o = pd.read_csv(\"data/test_orig_all.csv\").set_index(\"hadm_id\")\n",
    "df[\"gender\"] = o[\"gender\"]\n",
    "df[\"age\"] = o[\"age\"]\n",
    "df[\"weight\"] = o[\"weight\"]\n",
    "df = df.reset_index()\n",
    "test(df)"
   ]
  },
  {
   "cell_type": "code",
   "execution_count": null,
   "id": "6cc054b2-ce77-401b-afdd-7e37d2e8c608",
   "metadata": {},
   "outputs": [],
   "source": []
  }
 ],
 "metadata": {
  "kernelspec": {
   "display_name": "Python 3 (ipykernel)",
   "language": "python",
   "name": "python3"
  },
  "language_info": {
   "codemirror_mode": {
    "name": "ipython",
    "version": 3
   },
   "file_extension": ".py",
   "mimetype": "text/x-python",
   "name": "python",
   "nbconvert_exporter": "python",
   "pygments_lexer": "ipython3",
   "version": "3.12.3"
  }
 },
 "nbformat": 4,
 "nbformat_minor": 5
}
