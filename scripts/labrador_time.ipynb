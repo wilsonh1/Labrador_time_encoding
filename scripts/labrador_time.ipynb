{
 "cells": [
  {
   "cell_type": "code",
   "execution_count": 2,
   "metadata": {
    "id": "e7onPGcM5PUn"
   },
   "outputs": [],
   "source": [
    "import pandas as pd\n",
    "import torch\n",
    "import numpy as np\n",
    "import torch.nn as nn\n",
    "\n",
    "from src.preprocessing import preprocess_df, TextEncoder\n",
    "from sklearn.model_selection import train_test_split\n",
    "\n",
    "from src.labrador import Labrador\n",
    "from src.tokenizers import LabradorTokenizer\n",
    "from src.dataset import LabradorDataset\n",
    "\n",
    "from src.train import train_labrador\n",
    "from src.test import test_model"
   ]
  },
  {
   "cell_type": "code",
   "execution_count": 3,
   "metadata": {
    "id": "v7wp1Xmk34Mn"
   },
   "outputs": [],
   "source": [
    "# Dataset:\n",
    "FILE = 'data/morning_lab_values.csv'\n",
    "COLUMNS = ['Bic', 'Crt', 'Pot', 'Sod', 'Ure', 'Hgb', 'Plt', 'Wbc']\n",
    "\n",
    "# Device:\n",
    "device = torch.device('cuda') if torch.cuda.is_available() else torch.device('cpu')\n",
    "# device = torch.device('mps') if torch.cuda.is_available() else torch.device('cpu') # Apple Silicon\n",
    "\n",
    "# Data loader:\n",
    "test_size = 0.2\n",
    "batch_size = 512\n",
    "num_workers = 4\n",
    "max_len = 8\n",
    "MASKING = 0.40\n",
    "\n",
    "# Model:\n",
    "embedding_dim = 756\n",
    "hidden_dim = 756\n",
    "transformer_heads = 4 #12\n",
    "num_blocks = 10 #12\n",
    "transformer_feedforward_dim = 1024 #3072\n",
    "dropout_rate = 0.3\n",
    "continuous_head_activation = 'relu'\n",
    "\n",
    "# Training:\n",
    "optimizer = 'Adam'\n",
    "num_epochs = 2\n",
    "save_model = True\n",
    "model_path = 'labrador_model_time2.pth'\n",
    "categorical_loss_weight = 1.0\n",
    "continuous_loss_weight = 1.0\n",
    "lr = 8e-6"
   ]
  },
  {
   "cell_type": "code",
   "execution_count": 4,
   "metadata": {
    "colab": {
     "base_uri": "https://localhost:8080/",
     "height": 206
    },
    "id": "4m8bjM1W6R1F",
    "outputId": "56ba10d7-72ec-4aeb-8f3f-8a4c74336474"
   },
   "outputs": [
    {
     "data": {
      "application/vnd.google.colaboratory.intrinsic+json": {
       "type": "dataframe",
       "variable_name": "df"
      },
      "text/html": [
       "\n",
       "  <div id=\"df-eba7a992-a497-45c5-9bd8-9d581da6ffd6\" class=\"colab-df-container\">\n",
       "    <div>\n",
       "<style scoped>\n",
       "    .dataframe tbody tr th:only-of-type {\n",
       "        vertical-align: middle;\n",
       "    }\n",
       "\n",
       "    .dataframe tbody tr th {\n",
       "        vertical-align: top;\n",
       "    }\n",
       "\n",
       "    .dataframe thead th {\n",
       "        text-align: right;\n",
       "    }\n",
       "</style>\n",
       "<table border=\"1\" class=\"dataframe\">\n",
       "  <thead>\n",
       "    <tr style=\"text-align: right;\">\n",
       "      <th></th>\n",
       "      <th>hadm_id</th>\n",
       "      <th>subject_id</th>\n",
       "      <th>itemid</th>\n",
       "      <th>charttime</th>\n",
       "      <th>charthour</th>\n",
       "      <th>storetime</th>\n",
       "      <th>storehour</th>\n",
       "      <th>chartday</th>\n",
       "      <th>valuenum</th>\n",
       "      <th>cnt</th>\n",
       "    </tr>\n",
       "  </thead>\n",
       "  <tbody>\n",
       "    <tr>\n",
       "      <th>0</th>\n",
       "      <td>NaN</td>\n",
       "      <td>16564743</td>\n",
       "      <td>50971</td>\n",
       "      <td>2160-02-05 14:14:00</td>\n",
       "      <td>14</td>\n",
       "      <td>NaN</td>\n",
       "      <td>NaN</td>\n",
       "      <td>2160-02-05</td>\n",
       "      <td>4.9</td>\n",
       "      <td>8</td>\n",
       "    </tr>\n",
       "    <tr>\n",
       "      <th>1</th>\n",
       "      <td>28234655.0</td>\n",
       "      <td>18843829</td>\n",
       "      <td>51301</td>\n",
       "      <td>2131-04-05 00:07:00</td>\n",
       "      <td>0</td>\n",
       "      <td>2131-04-05 00:30:00</td>\n",
       "      <td>0.0</td>\n",
       "      <td>2131-04-05</td>\n",
       "      <td>5.7</td>\n",
       "      <td>8</td>\n",
       "    </tr>\n",
       "    <tr>\n",
       "      <th>2</th>\n",
       "      <td>24776258.0</td>\n",
       "      <td>19880967</td>\n",
       "      <td>51301</td>\n",
       "      <td>2174-06-15 00:00:00</td>\n",
       "      <td>0</td>\n",
       "      <td>2174-06-15 00:35:00</td>\n",
       "      <td>0.0</td>\n",
       "      <td>2174-06-15</td>\n",
       "      <td>2.2</td>\n",
       "      <td>8</td>\n",
       "    </tr>\n",
       "    <tr>\n",
       "      <th>3</th>\n",
       "      <td>29889929.0</td>\n",
       "      <td>17339765</td>\n",
       "      <td>51265</td>\n",
       "      <td>2143-04-26 00:00:00</td>\n",
       "      <td>0</td>\n",
       "      <td>2143-04-26 00:45:00</td>\n",
       "      <td>0.0</td>\n",
       "      <td>2143-04-26</td>\n",
       "      <td>10.0</td>\n",
       "      <td>8</td>\n",
       "    </tr>\n",
       "    <tr>\n",
       "      <th>4</th>\n",
       "      <td>22530452.0</td>\n",
       "      <td>19667522</td>\n",
       "      <td>51222</td>\n",
       "      <td>2188-12-14 00:00:00</td>\n",
       "      <td>0</td>\n",
       "      <td>2188-12-14 00:40:00</td>\n",
       "      <td>0.0</td>\n",
       "      <td>2188-12-14</td>\n",
       "      <td>10.1</td>\n",
       "      <td>8</td>\n",
       "    </tr>\n",
       "  </tbody>\n",
       "</table>\n",
       "</div>\n",
       "    <div class=\"colab-df-buttons\">\n",
       "\n",
       "  <div class=\"colab-df-container\">\n",
       "    <button class=\"colab-df-convert\" onclick=\"convertToInteractive('df-eba7a992-a497-45c5-9bd8-9d581da6ffd6')\"\n",
       "            title=\"Convert this dataframe to an interactive table.\"\n",
       "            style=\"display:none;\">\n",
       "\n",
       "  <svg xmlns=\"http://www.w3.org/2000/svg\" height=\"24px\" viewBox=\"0 -960 960 960\">\n",
       "    <path d=\"M120-120v-720h720v720H120Zm60-500h600v-160H180v160Zm220 220h160v-160H400v160Zm0 220h160v-160H400v160ZM180-400h160v-160H180v160Zm440 0h160v-160H620v160ZM180-180h160v-160H180v160Zm440 0h160v-160H620v160Z\"/>\n",
       "  </svg>\n",
       "    </button>\n",
       "\n",
       "  <style>\n",
       "    .colab-df-container {\n",
       "      display:flex;\n",
       "      gap: 12px;\n",
       "    }\n",
       "\n",
       "    .colab-df-convert {\n",
       "      background-color: #E8F0FE;\n",
       "      border: none;\n",
       "      border-radius: 50%;\n",
       "      cursor: pointer;\n",
       "      display: none;\n",
       "      fill: #1967D2;\n",
       "      height: 32px;\n",
       "      padding: 0 0 0 0;\n",
       "      width: 32px;\n",
       "    }\n",
       "\n",
       "    .colab-df-convert:hover {\n",
       "      background-color: #E2EBFA;\n",
       "      box-shadow: 0px 1px 2px rgba(60, 64, 67, 0.3), 0px 1px 3px 1px rgba(60, 64, 67, 0.15);\n",
       "      fill: #174EA6;\n",
       "    }\n",
       "\n",
       "    .colab-df-buttons div {\n",
       "      margin-bottom: 4px;\n",
       "    }\n",
       "\n",
       "    [theme=dark] .colab-df-convert {\n",
       "      background-color: #3B4455;\n",
       "      fill: #D2E3FC;\n",
       "    }\n",
       "\n",
       "    [theme=dark] .colab-df-convert:hover {\n",
       "      background-color: #434B5C;\n",
       "      box-shadow: 0px 1px 3px 1px rgba(0, 0, 0, 0.15);\n",
       "      filter: drop-shadow(0px 1px 2px rgba(0, 0, 0, 0.3));\n",
       "      fill: #FFFFFF;\n",
       "    }\n",
       "  </style>\n",
       "\n",
       "    <script>\n",
       "      const buttonEl =\n",
       "        document.querySelector('#df-eba7a992-a497-45c5-9bd8-9d581da6ffd6 button.colab-df-convert');\n",
       "      buttonEl.style.display =\n",
       "        google.colab.kernel.accessAllowed ? 'block' : 'none';\n",
       "\n",
       "      async function convertToInteractive(key) {\n",
       "        const element = document.querySelector('#df-eba7a992-a497-45c5-9bd8-9d581da6ffd6');\n",
       "        const dataTable =\n",
       "          await google.colab.kernel.invokeFunction('convertToInteractive',\n",
       "                                                    [key], {});\n",
       "        if (!dataTable) return;\n",
       "\n",
       "        const docLinkHtml = 'Like what you see? Visit the ' +\n",
       "          '<a target=\"_blank\" href=https://colab.research.google.com/notebooks/data_table.ipynb>data table notebook</a>'\n",
       "          + ' to learn more about interactive tables.';\n",
       "        element.innerHTML = '';\n",
       "        dataTable['output_type'] = 'display_data';\n",
       "        await google.colab.output.renderOutput(dataTable, element);\n",
       "        const docLink = document.createElement('div');\n",
       "        docLink.innerHTML = docLinkHtml;\n",
       "        element.appendChild(docLink);\n",
       "      }\n",
       "    </script>\n",
       "  </div>\n",
       "\n",
       "\n",
       "<div id=\"df-4e37e08c-25fa-44c4-93b7-80d2ceaaa3db\">\n",
       "  <button class=\"colab-df-quickchart\" onclick=\"quickchart('df-4e37e08c-25fa-44c4-93b7-80d2ceaaa3db')\"\n",
       "            title=\"Suggest charts\"\n",
       "            style=\"display:none;\">\n",
       "\n",
       "<svg xmlns=\"http://www.w3.org/2000/svg\" height=\"24px\"viewBox=\"0 0 24 24\"\n",
       "     width=\"24px\">\n",
       "    <g>\n",
       "        <path d=\"M19 3H5c-1.1 0-2 .9-2 2v14c0 1.1.9 2 2 2h14c1.1 0 2-.9 2-2V5c0-1.1-.9-2-2-2zM9 17H7v-7h2v7zm4 0h-2V7h2v10zm4 0h-2v-4h2v4z\"/>\n",
       "    </g>\n",
       "</svg>\n",
       "  </button>\n",
       "\n",
       "<style>\n",
       "  .colab-df-quickchart {\n",
       "      --bg-color: #E8F0FE;\n",
       "      --fill-color: #1967D2;\n",
       "      --hover-bg-color: #E2EBFA;\n",
       "      --hover-fill-color: #174EA6;\n",
       "      --disabled-fill-color: #AAA;\n",
       "      --disabled-bg-color: #DDD;\n",
       "  }\n",
       "\n",
       "  [theme=dark] .colab-df-quickchart {\n",
       "      --bg-color: #3B4455;\n",
       "      --fill-color: #D2E3FC;\n",
       "      --hover-bg-color: #434B5C;\n",
       "      --hover-fill-color: #FFFFFF;\n",
       "      --disabled-bg-color: #3B4455;\n",
       "      --disabled-fill-color: #666;\n",
       "  }\n",
       "\n",
       "  .colab-df-quickchart {\n",
       "    background-color: var(--bg-color);\n",
       "    border: none;\n",
       "    border-radius: 50%;\n",
       "    cursor: pointer;\n",
       "    display: none;\n",
       "    fill: var(--fill-color);\n",
       "    height: 32px;\n",
       "    padding: 0;\n",
       "    width: 32px;\n",
       "  }\n",
       "\n",
       "  .colab-df-quickchart:hover {\n",
       "    background-color: var(--hover-bg-color);\n",
       "    box-shadow: 0 1px 2px rgba(60, 64, 67, 0.3), 0 1px 3px 1px rgba(60, 64, 67, 0.15);\n",
       "    fill: var(--button-hover-fill-color);\n",
       "  }\n",
       "\n",
       "  .colab-df-quickchart-complete:disabled,\n",
       "  .colab-df-quickchart-complete:disabled:hover {\n",
       "    background-color: var(--disabled-bg-color);\n",
       "    fill: var(--disabled-fill-color);\n",
       "    box-shadow: none;\n",
       "  }\n",
       "\n",
       "  .colab-df-spinner {\n",
       "    border: 2px solid var(--fill-color);\n",
       "    border-color: transparent;\n",
       "    border-bottom-color: var(--fill-color);\n",
       "    animation:\n",
       "      spin 1s steps(1) infinite;\n",
       "  }\n",
       "\n",
       "  @keyframes spin {\n",
       "    0% {\n",
       "      border-color: transparent;\n",
       "      border-bottom-color: var(--fill-color);\n",
       "      border-left-color: var(--fill-color);\n",
       "    }\n",
       "    20% {\n",
       "      border-color: transparent;\n",
       "      border-left-color: var(--fill-color);\n",
       "      border-top-color: var(--fill-color);\n",
       "    }\n",
       "    30% {\n",
       "      border-color: transparent;\n",
       "      border-left-color: var(--fill-color);\n",
       "      border-top-color: var(--fill-color);\n",
       "      border-right-color: var(--fill-color);\n",
       "    }\n",
       "    40% {\n",
       "      border-color: transparent;\n",
       "      border-right-color: var(--fill-color);\n",
       "      border-top-color: var(--fill-color);\n",
       "    }\n",
       "    60% {\n",
       "      border-color: transparent;\n",
       "      border-right-color: var(--fill-color);\n",
       "    }\n",
       "    80% {\n",
       "      border-color: transparent;\n",
       "      border-right-color: var(--fill-color);\n",
       "      border-bottom-color: var(--fill-color);\n",
       "    }\n",
       "    90% {\n",
       "      border-color: transparent;\n",
       "      border-bottom-color: var(--fill-color);\n",
       "    }\n",
       "  }\n",
       "</style>\n",
       "\n",
       "  <script>\n",
       "    async function quickchart(key) {\n",
       "      const quickchartButtonEl =\n",
       "        document.querySelector('#' + key + ' button');\n",
       "      quickchartButtonEl.disabled = true;  // To prevent multiple clicks.\n",
       "      quickchartButtonEl.classList.add('colab-df-spinner');\n",
       "      try {\n",
       "        const charts = await google.colab.kernel.invokeFunction(\n",
       "            'suggestCharts', [key], {});\n",
       "      } catch (error) {\n",
       "        console.error('Error during call to suggestCharts:', error);\n",
       "      }\n",
       "      quickchartButtonEl.classList.remove('colab-df-spinner');\n",
       "      quickchartButtonEl.classList.add('colab-df-quickchart-complete');\n",
       "    }\n",
       "    (() => {\n",
       "      let quickchartButtonEl =\n",
       "        document.querySelector('#df-4e37e08c-25fa-44c4-93b7-80d2ceaaa3db button');\n",
       "      quickchartButtonEl.style.display =\n",
       "        google.colab.kernel.accessAllowed ? 'block' : 'none';\n",
       "    })();\n",
       "  </script>\n",
       "</div>\n",
       "\n",
       "    </div>\n",
       "  </div>\n"
      ],
      "text/plain": [
       "      hadm_id  subject_id  itemid           charttime  charthour  \\\n",
       "0         NaN    16564743   50971 2160-02-05 14:14:00         14   \n",
       "1  28234655.0    18843829   51301 2131-04-05 00:07:00          0   \n",
       "2  24776258.0    19880967   51301 2174-06-15 00:00:00          0   \n",
       "3  29889929.0    17339765   51265 2143-04-26 00:00:00          0   \n",
       "4  22530452.0    19667522   51222 2188-12-14 00:00:00          0   \n",
       "\n",
       "             storetime  storehour    chartday  valuenum  cnt  \n",
       "0                  NaN        NaN  2160-02-05       4.9    8  \n",
       "1  2131-04-05 00:30:00        0.0  2131-04-05       5.7    8  \n",
       "2  2174-06-15 00:35:00        0.0  2174-06-15       2.2    8  \n",
       "3  2143-04-26 00:45:00        0.0  2143-04-26      10.0    8  \n",
       "4  2188-12-14 00:40:00        0.0  2188-12-14      10.1    8  "
      ]
     },
     "execution_count": 4,
     "metadata": {},
     "output_type": "execute_result"
    }
   ],
   "source": [
    "df = pd.read_csv(FILE)\n",
    "df[\"charttime\"] = pd.to_datetime(df[\"charttime\"])\n",
    "df.head()"
   ]
  },
  {
   "cell_type": "code",
   "execution_count": 87,
   "metadata": {
    "id": "3mmAumG06TK9"
   },
   "outputs": [],
   "source": [
    "# MinMaxScaler by default\n",
    "mrl = preprocess_df(df, columns_to_scale=COLUMNS)"
   ]
  },
  {
   "cell_type": "code",
   "execution_count": 89,
   "metadata": {
    "id": "otJ_ZIEF6X-J"
   },
   "outputs": [],
   "source": [
    "text_encoder = TextEncoder(Repetition_id=True, labs_as_num=True, return_lists=True)\n",
    "mrl, grouped_mrl = text_encoder.encode_text(mrl)"
   ]
  },
  {
   "cell_type": "code",
   "execution_count": 15,
   "metadata": {
    "id": "OGVSAR_Ipx7U"
   },
   "outputs": [],
   "source": [
    "#grouped_mrl.to_csv(\"data/grouped_mrl.csv\")\n",
    "grouped_mrl.to_csv(\"data/grouped_mrl_time.csv\")"
   ]
  },
  {
   "cell_type": "code",
   "execution_count": 68,
   "metadata": {
    "id": "ZuT_xCv0N7Hc"
   },
   "outputs": [],
   "source": [
    "from ast import literal_eval\n",
    "grouped_mrl = pd.read_csv(\"data/grouped_mrl_time.csv\", converters={\n",
    "    \"lab_ids\": literal_eval,\n",
    "    \"lab_values\": literal_eval\n",
    "})"
   ]
  },
  {
   "cell_type": "code",
   "execution_count": 91,
   "metadata": {
    "colab": {
     "base_uri": "https://localhost:8080/",
     "height": 143
    },
    "id": "_vZYKOfbB87p",
    "outputId": "93e55f14-1f67-4efa-c789-24b1dac17364"
   },
   "outputs": [
    {
     "data": {
      "application/vnd.google.colaboratory.intrinsic+json": {
       "type": "dataframe",
       "variable_name": "grouped_mrl"
      },
      "text/html": [
       "\n",
       "  <div id=\"df-a6b6d893-4472-4578-bdf2-91dc2295ddaa\" class=\"colab-df-container\">\n",
       "    <div>\n",
       "<style scoped>\n",
       "    .dataframe tbody tr th:only-of-type {\n",
       "        vertical-align: middle;\n",
       "    }\n",
       "\n",
       "    .dataframe tbody tr th {\n",
       "        vertical-align: top;\n",
       "    }\n",
       "\n",
       "    .dataframe thead th {\n",
       "        text-align: right;\n",
       "    }\n",
       "</style>\n",
       "<table border=\"1\" class=\"dataframe\">\n",
       "  <thead>\n",
       "    <tr style=\"text-align: right;\">\n",
       "      <th></th>\n",
       "      <th>hadm_id</th>\n",
       "      <th>nstr</th>\n",
       "      <th>lab_ids</th>\n",
       "      <th>lab_values</th>\n",
       "    </tr>\n",
       "  </thead>\n",
       "  <tbody>\n",
       "    <tr>\n",
       "      <th>0</th>\n",
       "      <td>20000019.0</td>\n",
       "      <td>[Bic 0.16923076923076924 Crt 0.014864864864864...</td>\n",
       "      <td>[Bic, Crt, Pot, Sod, Ure, Hgb, Plt, Wbc]</td>\n",
       "      <td>[0.16923076923076924, 0.014864864864864867, 0....</td>\n",
       "    </tr>\n",
       "    <tr>\n",
       "      <th>1</th>\n",
       "      <td>20000024.0</td>\n",
       "      <td>[Bic 0.17692307692307693 Crt 0.014864864864864...</td>\n",
       "      <td>[Bic, Crt, Pot, Sod, Ure, Hgb, Plt, Wbc]</td>\n",
       "      <td>[0.17692307692307693, 0.014864864864864867, 0....</td>\n",
       "    </tr>\n",
       "    <tr>\n",
       "      <th>2</th>\n",
       "      <td>20000034.0</td>\n",
       "      <td>[Bic 0.16923076923076924 Crt 0.031081081081081...</td>\n",
       "      <td>[Bic, Crt, Pot, Sod, Ure, Hgb, Plt, Wbc]</td>\n",
       "      <td>[0.16923076923076924, 0.03108108108108108, 0.1...</td>\n",
       "    </tr>\n",
       "  </tbody>\n",
       "</table>\n",
       "</div>\n",
       "    <div class=\"colab-df-buttons\">\n",
       "\n",
       "  <div class=\"colab-df-container\">\n",
       "    <button class=\"colab-df-convert\" onclick=\"convertToInteractive('df-a6b6d893-4472-4578-bdf2-91dc2295ddaa')\"\n",
       "            title=\"Convert this dataframe to an interactive table.\"\n",
       "            style=\"display:none;\">\n",
       "\n",
       "  <svg xmlns=\"http://www.w3.org/2000/svg\" height=\"24px\" viewBox=\"0 -960 960 960\">\n",
       "    <path d=\"M120-120v-720h720v720H120Zm60-500h600v-160H180v160Zm220 220h160v-160H400v160Zm0 220h160v-160H400v160ZM180-400h160v-160H180v160Zm440 0h160v-160H620v160ZM180-180h160v-160H180v160Zm440 0h160v-160H620v160Z\"/>\n",
       "  </svg>\n",
       "    </button>\n",
       "\n",
       "  <style>\n",
       "    .colab-df-container {\n",
       "      display:flex;\n",
       "      gap: 12px;\n",
       "    }\n",
       "\n",
       "    .colab-df-convert {\n",
       "      background-color: #E8F0FE;\n",
       "      border: none;\n",
       "      border-radius: 50%;\n",
       "      cursor: pointer;\n",
       "      display: none;\n",
       "      fill: #1967D2;\n",
       "      height: 32px;\n",
       "      padding: 0 0 0 0;\n",
       "      width: 32px;\n",
       "    }\n",
       "\n",
       "    .colab-df-convert:hover {\n",
       "      background-color: #E2EBFA;\n",
       "      box-shadow: 0px 1px 2px rgba(60, 64, 67, 0.3), 0px 1px 3px 1px rgba(60, 64, 67, 0.15);\n",
       "      fill: #174EA6;\n",
       "    }\n",
       "\n",
       "    .colab-df-buttons div {\n",
       "      margin-bottom: 4px;\n",
       "    }\n",
       "\n",
       "    [theme=dark] .colab-df-convert {\n",
       "      background-color: #3B4455;\n",
       "      fill: #D2E3FC;\n",
       "    }\n",
       "\n",
       "    [theme=dark] .colab-df-convert:hover {\n",
       "      background-color: #434B5C;\n",
       "      box-shadow: 0px 1px 3px 1px rgba(0, 0, 0, 0.15);\n",
       "      filter: drop-shadow(0px 1px 2px rgba(0, 0, 0, 0.3));\n",
       "      fill: #FFFFFF;\n",
       "    }\n",
       "  </style>\n",
       "\n",
       "    <script>\n",
       "      const buttonEl =\n",
       "        document.querySelector('#df-a6b6d893-4472-4578-bdf2-91dc2295ddaa button.colab-df-convert');\n",
       "      buttonEl.style.display =\n",
       "        google.colab.kernel.accessAllowed ? 'block' : 'none';\n",
       "\n",
       "      async function convertToInteractive(key) {\n",
       "        const element = document.querySelector('#df-a6b6d893-4472-4578-bdf2-91dc2295ddaa');\n",
       "        const dataTable =\n",
       "          await google.colab.kernel.invokeFunction('convertToInteractive',\n",
       "                                                    [key], {});\n",
       "        if (!dataTable) return;\n",
       "\n",
       "        const docLinkHtml = 'Like what you see? Visit the ' +\n",
       "          '<a target=\"_blank\" href=https://colab.research.google.com/notebooks/data_table.ipynb>data table notebook</a>'\n",
       "          + ' to learn more about interactive tables.';\n",
       "        element.innerHTML = '';\n",
       "        dataTable['output_type'] = 'display_data';\n",
       "        await google.colab.output.renderOutput(dataTable, element);\n",
       "        const docLink = document.createElement('div');\n",
       "        docLink.innerHTML = docLinkHtml;\n",
       "        element.appendChild(docLink);\n",
       "      }\n",
       "    </script>\n",
       "  </div>\n",
       "\n",
       "\n",
       "<div id=\"df-23f9c847-99a8-4f09-943a-3fd911ded0e1\">\n",
       "  <button class=\"colab-df-quickchart\" onclick=\"quickchart('df-23f9c847-99a8-4f09-943a-3fd911ded0e1')\"\n",
       "            title=\"Suggest charts\"\n",
       "            style=\"display:none;\">\n",
       "\n",
       "<svg xmlns=\"http://www.w3.org/2000/svg\" height=\"24px\"viewBox=\"0 0 24 24\"\n",
       "     width=\"24px\">\n",
       "    <g>\n",
       "        <path d=\"M19 3H5c-1.1 0-2 .9-2 2v14c0 1.1.9 2 2 2h14c1.1 0 2-.9 2-2V5c0-1.1-.9-2-2-2zM9 17H7v-7h2v7zm4 0h-2V7h2v10zm4 0h-2v-4h2v4z\"/>\n",
       "    </g>\n",
       "</svg>\n",
       "  </button>\n",
       "\n",
       "<style>\n",
       "  .colab-df-quickchart {\n",
       "      --bg-color: #E8F0FE;\n",
       "      --fill-color: #1967D2;\n",
       "      --hover-bg-color: #E2EBFA;\n",
       "      --hover-fill-color: #174EA6;\n",
       "      --disabled-fill-color: #AAA;\n",
       "      --disabled-bg-color: #DDD;\n",
       "  }\n",
       "\n",
       "  [theme=dark] .colab-df-quickchart {\n",
       "      --bg-color: #3B4455;\n",
       "      --fill-color: #D2E3FC;\n",
       "      --hover-bg-color: #434B5C;\n",
       "      --hover-fill-color: #FFFFFF;\n",
       "      --disabled-bg-color: #3B4455;\n",
       "      --disabled-fill-color: #666;\n",
       "  }\n",
       "\n",
       "  .colab-df-quickchart {\n",
       "    background-color: var(--bg-color);\n",
       "    border: none;\n",
       "    border-radius: 50%;\n",
       "    cursor: pointer;\n",
       "    display: none;\n",
       "    fill: var(--fill-color);\n",
       "    height: 32px;\n",
       "    padding: 0;\n",
       "    width: 32px;\n",
       "  }\n",
       "\n",
       "  .colab-df-quickchart:hover {\n",
       "    background-color: var(--hover-bg-color);\n",
       "    box-shadow: 0 1px 2px rgba(60, 64, 67, 0.3), 0 1px 3px 1px rgba(60, 64, 67, 0.15);\n",
       "    fill: var(--button-hover-fill-color);\n",
       "  }\n",
       "\n",
       "  .colab-df-quickchart-complete:disabled,\n",
       "  .colab-df-quickchart-complete:disabled:hover {\n",
       "    background-color: var(--disabled-bg-color);\n",
       "    fill: var(--disabled-fill-color);\n",
       "    box-shadow: none;\n",
       "  }\n",
       "\n",
       "  .colab-df-spinner {\n",
       "    border: 2px solid var(--fill-color);\n",
       "    border-color: transparent;\n",
       "    border-bottom-color: var(--fill-color);\n",
       "    animation:\n",
       "      spin 1s steps(1) infinite;\n",
       "  }\n",
       "\n",
       "  @keyframes spin {\n",
       "    0% {\n",
       "      border-color: transparent;\n",
       "      border-bottom-color: var(--fill-color);\n",
       "      border-left-color: var(--fill-color);\n",
       "    }\n",
       "    20% {\n",
       "      border-color: transparent;\n",
       "      border-left-color: var(--fill-color);\n",
       "      border-top-color: var(--fill-color);\n",
       "    }\n",
       "    30% {\n",
       "      border-color: transparent;\n",
       "      border-left-color: var(--fill-color);\n",
       "      border-top-color: var(--fill-color);\n",
       "      border-right-color: var(--fill-color);\n",
       "    }\n",
       "    40% {\n",
       "      border-color: transparent;\n",
       "      border-right-color: var(--fill-color);\n",
       "      border-top-color: var(--fill-color);\n",
       "    }\n",
       "    60% {\n",
       "      border-color: transparent;\n",
       "      border-right-color: var(--fill-color);\n",
       "    }\n",
       "    80% {\n",
       "      border-color: transparent;\n",
       "      border-right-color: var(--fill-color);\n",
       "      border-bottom-color: var(--fill-color);\n",
       "    }\n",
       "    90% {\n",
       "      border-color: transparent;\n",
       "      border-bottom-color: var(--fill-color);\n",
       "    }\n",
       "  }\n",
       "</style>\n",
       "\n",
       "  <script>\n",
       "    async function quickchart(key) {\n",
       "      const quickchartButtonEl =\n",
       "        document.querySelector('#' + key + ' button');\n",
       "      quickchartButtonEl.disabled = true;  // To prevent multiple clicks.\n",
       "      quickchartButtonEl.classList.add('colab-df-spinner');\n",
       "      try {\n",
       "        const charts = await google.colab.kernel.invokeFunction(\n",
       "            'suggestCharts', [key], {});\n",
       "      } catch (error) {\n",
       "        console.error('Error during call to suggestCharts:', error);\n",
       "      }\n",
       "      quickchartButtonEl.classList.remove('colab-df-spinner');\n",
       "      quickchartButtonEl.classList.add('colab-df-quickchart-complete');\n",
       "    }\n",
       "    (() => {\n",
       "      let quickchartButtonEl =\n",
       "        document.querySelector('#df-23f9c847-99a8-4f09-943a-3fd911ded0e1 button');\n",
       "      quickchartButtonEl.style.display =\n",
       "        google.colab.kernel.accessAllowed ? 'block' : 'none';\n",
       "    })();\n",
       "  </script>\n",
       "</div>\n",
       "\n",
       "    </div>\n",
       "  </div>\n"
      ],
      "text/plain": [
       "      hadm_id                                               nstr  \\\n",
       "0  20000019.0  [Bic 0.16923076923076924 Crt 0.014864864864864...   \n",
       "1  20000024.0  [Bic 0.17692307692307693 Crt 0.014864864864864...   \n",
       "2  20000034.0  [Bic 0.16923076923076924 Crt 0.031081081081081...   \n",
       "\n",
       "                                    lab_ids  \\\n",
       "0  [Bic, Crt, Pot, Sod, Ure, Hgb, Plt, Wbc]   \n",
       "1  [Bic, Crt, Pot, Sod, Ure, Hgb, Plt, Wbc]   \n",
       "2  [Bic, Crt, Pot, Sod, Ure, Hgb, Plt, Wbc]   \n",
       "\n",
       "                                          lab_values  \n",
       "0  [0.16923076923076924, 0.014864864864864867, 0....  \n",
       "1  [0.17692307692307693, 0.014864864864864867, 0....  \n",
       "2  [0.16923076923076924, 0.03108108108108108, 0.1...  "
      ]
     },
     "execution_count": 91,
     "metadata": {},
     "output_type": "execute_result"
    }
   ],
   "source": [
    "grouped_mrl.head(3)"
   ]
  },
  {
   "cell_type": "code",
   "execution_count": 92,
   "metadata": {
    "id": "H6xGaHAiZapV"
   },
   "outputs": [],
   "source": [
    "lab_ids = grouped_mrl.lab_ids.values\n",
    "lab_values = grouped_mrl.lab_values.values\n",
    "hid = grouped_mrl.hadm_id.values\n",
    "\n",
    "hid_train, hid_test, lab_ids_train, lab_ids_test, lab_values_train, lab_values_test = train_test_split(hid, lab_ids, lab_values, test_size=test_size, random_state=42)"
   ]
  },
  {
   "cell_type": "code",
   "execution_count": 93,
   "metadata": {
    "colab": {
     "base_uri": "https://localhost:8080/"
    },
    "id": "8kZNSDk0CFVq",
    "outputId": "1c023b0a-5e9b-43bc-ec79-d4f02064d3b7"
   },
   "outputs": [
    {
     "data": {
      "text/plain": [
       "array([list(['Bic', 'Crt', 'Pot', 'Sod', 'Ure', 'Hgb', 'Plt', 'Wbc']),\n",
       "       list(['Bic', 'Crt', 'Pot', 'Sod', 'Ure', 'Hgb', 'Plt', 'Wbc']),\n",
       "       list(['Bic', 'Crt', 'Pot', 'Sod', 'Ure', 'Hgb', 'Plt', 'Wbc']),\n",
       "       ...,\n",
       "       list(['Bic', 'Crt', 'Pot', 'Sod', 'Ure', 'Hgb', 'Plt', 'Wbc']),\n",
       "       list(['Bic', 'Crt', 'Pot', 'Sod', 'Ure', 'Hgb', 'Plt', 'Wbc']),\n",
       "       list(['Bic', 'Crt', 'Pot', 'Sod', 'Ure', 'Hgb', 'Plt', 'Wbc'])],\n",
       "      dtype=object)"
      ]
     },
     "execution_count": 93,
     "metadata": {},
     "output_type": "execute_result"
    }
   ],
   "source": [
    "lab_ids"
   ]
  },
  {
   "cell_type": "code",
   "execution_count": 72,
   "metadata": {
    "colab": {
     "base_uri": "https://localhost:8080/"
    },
    "id": "FVqzSQ4CJlEL",
    "outputId": "fe4dce4e-ddad-43ac-fbf0-02b5562e8478"
   },
   "outputs": [
    {
     "data": {
      "text/plain": [
       "array([list(['0.0', '0.16923076923076924', '0.010810810810810811', '0.12109375', '0.6226415094339623', '0.04262295081967213', '0.6697247706422017', '0.044264819091608926', '0.006489809859956735', '0.0019496265246688681', '0.18461538461538463', '0.00945945945945946', '0.109375', '0.6320754716981132', '0.04262295081967213', '0.646788990825688', '0.041185527328714396', '0.005351246726630992']),\n",
       "       list(['0.0', '0.19230769230769232', '0.010810810810810811', '0.12109375', '0.6698113207547169', '0.022950819672131147', '0.6055045871559632', '0.05542725173210161', '0.007514516679949903', '0.008560078959874248', '0.2076923076923077', '0.010810810810810811', '0.11328125', '0.679245283018868', '0.01639344262295082', '0.518348623853211', '0.05119322555812163', '0.004554252533302972', '0.009047485591041465', '0.2', '0.010810810810810811', '0.1015625', '0.6698113207547169', '0.01639344262295082', '0.5045871559633027', '0.0434949961508853', '0.004668108846635546', '0.009321651821073026', '0.14615384615384616', '0.010810810810810811', '0.11328125', '0.6320754716981132', '0.013114754098360656', '0.5091743119266054', '0.04695919938414165', '0.005351246726630992', '0.008547893794095068', '0.18461538461538463', '0.010810810810810811', '0.11328125', '0.6698113207547169', '0.009836065573770491', '0.5366972477064219', '0.0550423402617398', '0.006831378799954458', '0.00860272704010138', '0.16153846153846155', '0.010810810810810811', '0.10546875', '0.6698113207547169', '0.013114754098360656', '0.5504587155963302', '0.052732871439568896', '0.006489809859956735', '0.00834683855873859', '0.19230769230769232', '0.010810810810810811', '0.109375', '0.6603773584905661', '0.019672131147540982', '0.5275229357798165', '0.05696689761354888', '0.0058066719799612886']),\n",
       "       list(['0.0', '0.16923076923076924', '0.012162162162162163', '0.08203125', '0.6226415094339623', '0.05245901639344262', '0.4403669724770642', '0.15550423402617397', '0.005920528293293864', '0.004478048423848806', '0.14615384615384616', '0.012162162162162163', '0.09765625', '0.5849056603773586', '0.04590163934426229', '0.4220183486238531', '0.17090069284064666', '0.005920528293293864']),\n",
       "       ...,\n",
       "       list(['0.0', '0.18461538461538463', '0.014864864864864867', '0.1328125', '0.6226415094339623', '0.04918032786885246', '0.4633027522935779', '0.06081601231716705', '0.007400660366617329', '0.0067079337614388244', '0.17692307692307693', '0.012162162162162163', '0.125', '0.6132075471698113', '0.039344262295081964', '0.4633027522935779', '0.05812163202463433', '0.008539223499943073']),\n",
       "       list(['0.0', '0.16153846153846155', '0.01891891891891892', '0.203125', '0.5849056603773586', '0.04590163934426229', '0.6972477064220183', '0.06081601231716705', '0.008311510873277923']),\n",
       "       list(['0.0', '0.12307692307692308', '0.05810810810810811', '0.1640625', '0.5849056603773586', '0.5147540983606558', '0.5137614678899082', '0.12317167051578136', '0.0243652510531709', '0.0014561273106120608', '0.13076923076923078', '0.060810810810810814', '0.16015625', '0.5471698113207548', '0.5409836065573771', '0.518348623853211', '0.1262509622786759', '0.022543550039849713', '0.010071039516492622', '0.07692307692307693', '0.06621621621621622', '0.1796875', '0.5754716981132075', '0.580327868852459', '0.5275229357798165', '0.1351039260969977', '0.022088124786519413', '0.006957729659912023', '0.08461538461538462', '0.06891891891891892', '0.1953125', '0.5377358490566038', '0.6360655737704918', '0.5412844036697247', '0.14742109314857582', '0.02561767049982922', '0.009486151559091962', '0.08461538461538462', '0.06351351351351352', '0.19140625', '0.5566037735849056', '0.4786885245901639', '0.4541284403669725', '0.08237105465742878', '0.026870089946487537'])],\n",
       "      dtype=object)"
      ]
     },
     "execution_count": 72,
     "metadata": {},
     "output_type": "execute_result"
    }
   ],
   "source": [
    "lab_values_train"
   ]
  },
  {
   "cell_type": "code",
   "execution_count": null,
   "metadata": {
    "colab": {
     "base_uri": "https://localhost:8080/",
     "height": 519
    },
    "id": "7qTYGQTRMAGG",
    "outputId": "400467e8-8a44-45b1-93dc-a5ec2387643d"
   },
   "outputs": [
    {
     "data": {
      "text/plain": [
       "(array([2.5887e+05, 4.8380e+03, 6.8100e+02, 1.3400e+02, 3.8000e+01,\n",
       "        1.5000e+01, 6.0000e+00, 3.0000e+00, 1.0000e+00, 1.0000e+00]),\n",
       " array([  56. ,  739.2, 1422.4, 2105.6, 2788.8, 3472. , 4155.2, 4838.4,\n",
       "        5521.6, 6204.8, 6888. ]),\n",
       " <BarContainer object of 10 artists>)"
      ]
     },
     "execution_count": 25,
     "metadata": {},
     "output_type": "execute_result"
    },
    {
     "data": {
      "image/png": "[encoded data removed]",
      "text/plain": [
       "<Figure size 640x480 with 1 Axes>"
      ]
     },
     "metadata": {},
     "output_type": "display_data"
    }
   ],
   "source": [
    "import matplotlib.pyplot as plt\n",
    "plt.hist([len(x) for x in lab_ids])"
   ]
  },
  {
   "cell_type": "code",
   "execution_count": 20,
   "metadata": {
    "colab": {
     "base_uri": "https://localhost:8080/"
    },
    "id": "R90gs53cMLNB",
    "outputId": "70793b26-faad-4adb-c15c-c86be3e45837"
   },
   "outputs": [
    {
     "data": {
      "text/plain": [
       "24.0"
      ]
     },
     "execution_count": 20,
     "metadata": {},
     "output_type": "execute_result"
    }
   ],
   "source": [
    "np.median([len(x) for x in lab_ids])"
   ]
  },
  {
   "cell_type": "code",
   "execution_count": 95,
   "metadata": {
    "id": "SmzWURKrCnoV"
   },
   "outputs": [],
   "source": [
    "tokenizer = LabradorTokenizer()\n",
    "# Get unique lab ids:\n",
    "unique_ids = set(np.concatenate(lab_ids_train))\n",
    "# train the tokenizer:\n",
    "tokenizer.train(unique_ids)\n",
    "tokenizer.save_pretrained('labrador_tokenizer/')"
   ]
  },
  {
   "cell_type": "code",
   "execution_count": 42,
   "metadata": {
    "id": "E1YPTY_CBLKv"
   },
   "outputs": [],
   "source": [
    "import json\n",
    "d = json.load(open(\"labrador_tokenizer/tokenizer_config_time.json\"))\n",
    "tokenizer = LabradorTokenizer()\n",
    "tokenizer.mask_token = d[\"mask_token\"]\n",
    "tokenizer.null_token = d[\"null_token\"]\n",
    "tokenizer.pad_token = d[\"pad_token\"]\n",
    "tokenizer.special_tokens = d[\"special_tokens\"]\n",
    "tokenizer.vocab = d[\"vocab\"]\n",
    "tokenizer.inverse_vocab = {v: k for k, v in tokenizer.vocab.items()}"
   ]
  },
  {
   "cell_type": "code",
   "execution_count": 96,
   "metadata": {
    "colab": {
     "base_uri": "https://localhost:8080/"
    },
    "id": "fiWbzITFCpVI",
    "outputId": "9613ea3d-c19b-4973-ebac-490d96e7f751"
   },
   "outputs": [
    {
     "data": {
      "text/plain": [
       "{'input_ids': array([[ 1,  7,  5,  2,  6,  3,  4,  0, 10, 10, 10, 10, 10, 10, 10, 10,\n",
       "         10, 10, 10, 10, 10, 10, 10, 10, 10, 10, 10, 10, 10, 10, 10, 10,\n",
       "         10, 10, 10, 10, 10, 10, 10, 10, 10, 10, 10, 10, 10, 10, 10, 10,\n",
       "         10, 10, 10, 10, 10, 10, 10, 10, 10, 10, 10, 10, 10, 10, 10, 10]]),\n",
       " 'continuous': array([[1.69230769e-01, 1.08108108e-02, 1.21093750e-01, 6.22641509e-01,\n",
       "         4.26229508e-02, 6.69724771e-01, 4.42648191e-02, 6.48980986e-03,\n",
       "         1.00000000e+01, 1.00000000e+01, 1.00000000e+01, 1.00000000e+01,\n",
       "         1.00000000e+01, 1.00000000e+01, 1.00000000e+01, 1.00000000e+01,\n",
       "         1.00000000e+01, 1.00000000e+01, 1.00000000e+01, 1.00000000e+01,\n",
       "         1.00000000e+01, 1.00000000e+01, 1.00000000e+01, 1.00000000e+01,\n",
       "         1.00000000e+01, 1.00000000e+01, 1.00000000e+01, 1.00000000e+01,\n",
       "         1.00000000e+01, 1.00000000e+01, 1.00000000e+01, 1.00000000e+01,\n",
       "         1.00000000e+01, 1.00000000e+01, 1.00000000e+01, 1.00000000e+01,\n",
       "         1.00000000e+01, 1.00000000e+01, 1.00000000e+01, 1.00000000e+01,\n",
       "         1.00000000e+01, 1.00000000e+01, 1.00000000e+01, 1.00000000e+01,\n",
       "         1.00000000e+01, 1.00000000e+01, 1.00000000e+01, 1.00000000e+01,\n",
       "         1.00000000e+01, 1.00000000e+01, 1.00000000e+01, 1.00000000e+01,\n",
       "         1.00000000e+01, 1.00000000e+01, 1.00000000e+01, 1.00000000e+01,\n",
       "         1.00000000e+01, 1.00000000e+01, 1.00000000e+01, 1.00000000e+01,\n",
       "         1.00000000e+01, 1.00000000e+01, 1.00000000e+01, 1.00000000e+01]]),\n",
       " 'attention_mask': array([[1, 1, 1, 1, 1, 1, 1, 1, 0, 0, 0, 0, 0, 0, 0, 0, 0, 0, 0, 0, 0, 0,\n",
       "         0, 0, 0, 0, 0, 0, 0, 0, 0, 0, 0, 0, 0, 0, 0, 0, 0, 0, 0, 0, 0, 0,\n",
       "         0, 0, 0, 0, 0, 0, 0, 0, 0, 0, 0, 0, 0, 0, 0, 0, 0, 0, 0, 0]])}"
      ]
     },
     "execution_count": 96,
     "metadata": {},
     "output_type": "execute_result"
    }
   ],
   "source": [
    "tokenizer.tokenize_batch(lab_ids_train[:1], lab_values_train[:1], max_length=64)"
   ]
  },
  {
   "cell_type": "code",
   "execution_count": 97,
   "metadata": {
    "colab": {
     "base_uri": "https://localhost:8080/"
    },
    "id": "93C8k-xECwjH",
    "outputId": "58ae026a-ff22-4e3c-8fca-3cb76c74ca6d"
   },
   "outputs": [
    {
     "name": "stdout",
     "output_type": "stream",
     "text": [
      "{'[MASK]': 8, '[NULL]': 9, '[PAD]': 10, 'Wbc': 0, 'Bic': 1, 'Sod': 2, 'Hgb': 3, 'Plt': 4, 'Pot': 5, 'Ure': 6, 'Crt': 7}\n",
      "{'[MASK]': 8, '[NULL]': 9, '[PAD]': 10, 'Wbc': 0, 'Bic': 1, 'Sod': 2, 'Hgb': 3, 'Plt': 4, 'Pot': 5, 'Ure': 6, 'Crt': 7}\n"
     ]
    }
   ],
   "source": [
    "dataset_train = LabradorDataset(continuous=lab_values_train, categorical=lab_ids_train, tokenizer=tokenizer, max_len=8, masking_prob=MASKING)\n",
    "dataset_test = LabradorDataset(continuous=lab_values_test, categorical=lab_ids_test, tokenizer=tokenizer, max_len=8, masking_prob=MASKING)\n",
    "\n",
    "# Dataloader:\n",
    "train_loader = torch.utils.data.DataLoader(dataset_train, batch_size=batch_size, shuffle=True, num_workers=num_workers)\n",
    "test_loader = torch.utils.data.DataLoader(dataset_test, batch_size=batch_size, shuffle=True, num_workers=num_workers)"
   ]
  },
  {
   "cell_type": "code",
   "execution_count": 98,
   "metadata": {
    "id": "GuMMypVsC2uV"
   },
   "outputs": [],
   "source": [
    "mask_token = tokenizer.mask_token #-1\n",
    "null_token = tokenizer.null_token #-2\n",
    "pad_token = tokenizer.pad_token #-3\n",
    "vocab_size = tokenizer.vocab_size()"
   ]
  },
  {
   "cell_type": "code",
   "execution_count": 99,
   "metadata": {
    "colab": {
     "base_uri": "https://localhost:8080/"
    },
    "id": "0eNbFtHxC9Fh",
    "outputId": "67f3d098-614f-4f21-8d2b-27dbbac8190b"
   },
   "outputs": [
    {
     "data": {
      "text/plain": [
       "Labrador(\n",
       "  (categorical_embedding_layer): Embedding(14, 756)\n",
       "  (continuous_embedding_layer): ContinuousEmbedding(\n",
       "    (special_token_embeddings): Embedding(3, 756)\n",
       "    (dense1): Linear(in_features=1, out_features=756, bias=True)\n",
       "    (dense2): Linear(in_features=756, out_features=756, bias=True)\n",
       "    (layernorm): LayerNorm((756,), eps=1e-05, elementwise_affine=True)\n",
       "  )\n",
       "  (projection_layer): Linear(in_features=1512, out_features=756, bias=True)\n",
       "  (blocks): ModuleList(\n",
       "    (0-9): 10 x TransformerBlock(\n",
       "      (att): MultiheadAttention(\n",
       "        (out_proj): NonDynamicallyQuantizableLinear(in_features=756, out_features=756, bias=True)\n",
       "      )\n",
       "      (ffn): Sequential(\n",
       "        (0): Linear(in_features=756, out_features=1024, bias=True)\n",
       "        (1): ReLU()\n",
       "        (2): Linear(in_features=1024, out_features=756, bias=True)\n",
       "      )\n",
       "      (layernorm1): LayerNorm((756,), eps=1e-05, elementwise_affine=True)\n",
       "      (layernorm2): LayerNorm((756,), eps=1e-05, elementwise_affine=True)\n",
       "      (dropout1): Dropout(p=0.3, inplace=False)\n",
       "      (dropout2): Dropout(p=0.3, inplace=False)\n",
       "    )\n",
       "  )\n",
       "  (head): MLMPredictionHead(\n",
       "    (dense_categorical): Linear(in_features=756, out_features=756, bias=True)\n",
       "    (categorical_head): Linear(in_features=756, out_features=11, bias=True)\n",
       "    (dense_continuous): Linear(in_features=767, out_features=767, bias=True)\n",
       "    (continuous_head): Linear(in_features=767, out_features=1, bias=True)\n",
       "    (continuous_head_activation): ReLU()\n",
       "  )\n",
       ")"
      ]
     },
     "execution_count": 99,
     "metadata": {},
     "output_type": "execute_result"
    }
   ],
   "source": [
    "model = Labrador(mask_token=mask_token, pad_token=pad_token, null_token=null_token, vocab_size=vocab_size, embedding_dim=embedding_dim, transformer_heads=transformer_heads, num_blocks=num_blocks, transformer_feedforward_dim=transformer_feedforward_dim, include_head=True, continuous_head_activation=continuous_head_activation, dropout_rate=dropout_rate)\n",
    "model"
   ]
  },
  {
   "cell_type": "code",
   "execution_count": 46,
   "metadata": {
    "colab": {
     "base_uri": "https://localhost:8080/"
    },
    "id": "646o5F3CP7mj",
    "outputId": "767c0484-e3ee-426c-9bff-07c46c6e544a"
   },
   "outputs": [
    {
     "data": {
      "text/plain": [
       "<All keys matched successfully>"
      ]
     },
     "execution_count": 46,
     "metadata": {},
     "output_type": "execute_result"
    }
   ],
   "source": [
    "model.load_state_dict(torch.load(\"labrador_model_time.pth\"))"
   ]
  },
  {
   "cell_type": "code",
   "execution_count": 100,
   "metadata": {
    "id": "FC-keIePDACM"
   },
   "outputs": [],
   "source": [
    "# Loss functions\n",
    "categorical_loss_fn = nn.CrossEntropyLoss()\n",
    "continuous_loss_fn = nn.MSELoss()"
   ]
  },
  {
   "cell_type": "code",
   "execution_count": 101,
   "metadata": {
    "colab": {
     "base_uri": "https://localhost:8080/",
     "height": 1000
    },
    "id": "RILijTNBDBvF",
    "outputId": "9c77481e-d6a2-408f-afba-73e19b664af5"
   },
   "outputs": [
    {
     "name": "stderr",
     "output_type": "stream",
     "text": [
      "\r",
      "  0%|          | 0/485 [00:00<?, ?it/s]/usr/lib/python3.10/multiprocessing/popen_fork.py:66: RuntimeWarning: os.fork() was called. os.fork() is incompatible with multithreaded code, and JAX is multithreaded, so this will likely lead to a deadlock.\n",
      "  self.pid = os.fork()\n",
      "100%|██████████| 485/485 [00:45<00:00, 10.71it/s]\n",
      "100%|██████████| 122/122 [00:05<00:00, 21.40it/s]\n"
     ]
    },
    {
     "name": "stdout",
     "output_type": "stream",
     "text": [
      "Epoch 1/15, Training Loss: 2.2058895978730977, Validation Loss: 1.9726178020727438\n"
     ]
    },
    {
     "name": "stderr",
     "output_type": "stream",
     "text": [
      "100%|██████████| 485/485 [00:45<00:00, 10.74it/s]\n",
      "100%|██████████| 122/122 [00:05<00:00, 21.39it/s]\n"
     ]
    },
    {
     "name": "stdout",
     "output_type": "stream",
     "text": [
      "Epoch 2/15, Training Loss: 1.9533544260201996, Validation Loss: 1.9291614381993403\n"
     ]
    },
    {
     "name": "stderr",
     "output_type": "stream",
     "text": [
      "100%|██████████| 485/485 [00:45<00:00, 10.73it/s]\n",
      "100%|██████████| 122/122 [00:05<00:00, 21.48it/s]\n"
     ]
    },
    {
     "name": "stdout",
     "output_type": "stream",
     "text": [
      "Epoch 3/15, Training Loss: 1.9323854003984904, Validation Loss: 1.9322861218061604\n"
     ]
    },
    {
     "name": "stderr",
     "output_type": "stream",
     "text": [
      "100%|██████████| 485/485 [00:45<00:00, 10.72it/s]\n",
      "100%|██████████| 122/122 [00:05<00:00, 21.31it/s]\n"
     ]
    },
    {
     "name": "stdout",
     "output_type": "stream",
     "text": [
      "Epoch 4/15, Training Loss: 1.9261571146778225, Validation Loss: 1.9226825305672943\n"
     ]
    },
    {
     "name": "stderr",
     "output_type": "stream",
     "text": [
      "100%|██████████| 485/485 [00:45<00:00, 10.73it/s]\n",
      "100%|██████████| 122/122 [00:05<00:00, 21.21it/s]\n"
     ]
    },
    {
     "name": "stdout",
     "output_type": "stream",
     "text": [
      "Epoch 5/15, Training Loss: 1.921068473206353, Validation Loss: 1.9112872754941221\n"
     ]
    },
    {
     "name": "stderr",
     "output_type": "stream",
     "text": [
      "100%|██████████| 485/485 [00:45<00:00, 10.75it/s]\n",
      " 99%|█████████▉| 121/122 [00:05<00:00, 30.37it/s]/usr/local/lib/python3.10/dist-packages/torch/nn/modules/loss.py:535: UserWarning: Using a target size (torch.Size([1])) that is different to the input size (torch.Size([])). This will likely lead to incorrect results due to broadcasting. Please ensure they have the same size.\n",
      "  return F.mse_loss(input, target, reduction=self.reduction)\n",
      "100%|██████████| 122/122 [00:05<00:00, 20.87it/s]\n"
     ]
    },
    {
     "name": "stdout",
     "output_type": "stream",
     "text": [
      "Epoch 6/15, Training Loss: 1.9184344291687012, Validation Loss: 1.9139834114762604\n"
     ]
    },
    {
     "name": "stderr",
     "output_type": "stream",
     "text": [
      "100%|██████████| 485/485 [00:45<00:00, 10.74it/s]\n",
      "100%|██████████| 122/122 [00:05<00:00, 20.78it/s]\n"
     ]
    },
    {
     "name": "stdout",
     "output_type": "stream",
     "text": [
      "Epoch 7/15, Training Loss: 1.9157345366232175, Validation Loss: 1.9142433229039928\n"
     ]
    },
    {
     "name": "stderr",
     "output_type": "stream",
     "text": [
      "100%|██████████| 485/485 [00:45<00:00, 10.74it/s]\n",
      "100%|██████████| 122/122 [00:05<00:00, 21.15it/s]\n"
     ]
    },
    {
     "name": "stdout",
     "output_type": "stream",
     "text": [
      "Epoch 8/15, Training Loss: 1.9148942229674035, Validation Loss: 1.9129734615810583\n"
     ]
    },
    {
     "name": "stderr",
     "output_type": "stream",
     "text": [
      "100%|██████████| 485/485 [00:45<00:00, 10.75it/s]\n",
      "100%|██████████| 122/122 [00:05<00:00, 21.13it/s]\n"
     ]
    },
    {
     "name": "stdout",
     "output_type": "stream",
     "text": [
      "Epoch 9/15, Training Loss: 1.9143150786763614, Validation Loss: 1.9145236640680032\n"
     ]
    },
    {
     "name": "stderr",
     "output_type": "stream",
     "text": [
      "100%|██████████| 485/485 [00:45<00:00, 10.72it/s]\n",
      "100%|██████████| 122/122 [00:05<00:00, 20.81it/s]\n"
     ]
    },
    {
     "name": "stdout",
     "output_type": "stream",
     "text": [
      "Epoch 10/15, Training Loss: 1.912327099829605, Validation Loss: 1.9099384907816277\n"
     ]
    },
    {
     "name": "stderr",
     "output_type": "stream",
     "text": [
      "100%|██████████| 485/485 [00:45<00:00, 10.76it/s]\n",
      "100%|██████████| 122/122 [00:05<00:00, 21.24it/s]\n"
     ]
    },
    {
     "name": "stdout",
     "output_type": "stream",
     "text": [
      "Epoch 11/15, Training Loss: 1.9127572037510037, Validation Loss: 1.9337796480929266\n"
     ]
    },
    {
     "name": "stderr",
     "output_type": "stream",
     "text": [
      "100%|██████████| 485/485 [00:45<00:00, 10.74it/s]\n",
      "100%|██████████| 122/122 [00:05<00:00, 21.12it/s]\n"
     ]
    },
    {
     "name": "stdout",
     "output_type": "stream",
     "text": [
      "Epoch 12/15, Training Loss: 1.9165230173425576, Validation Loss: 1.912376621707541\n"
     ]
    },
    {
     "name": "stderr",
     "output_type": "stream",
     "text": [
      "100%|██████████| 485/485 [00:45<00:00, 10.72it/s]\n",
      "100%|██████████| 122/122 [00:05<00:00, 21.11it/s]\n"
     ]
    },
    {
     "name": "stdout",
     "output_type": "stream",
     "text": [
      "Epoch 13/15, Training Loss: 1.9139174599008462, Validation Loss: 1.9180587119743473\n"
     ]
    },
    {
     "name": "stderr",
     "output_type": "stream",
     "text": [
      "100%|██████████| 485/485 [00:45<00:00, 10.72it/s]\n",
      "100%|██████████| 122/122 [00:05<00:00, 21.30it/s]\n"
     ]
    },
    {
     "name": "stdout",
     "output_type": "stream",
     "text": [
      "Epoch 14/15, Training Loss: 1.910006101844237, Validation Loss: 1.9149970685849425\n"
     ]
    },
    {
     "name": "stderr",
     "output_type": "stream",
     "text": [
      "100%|██████████| 485/485 [00:45<00:00, 10.71it/s]\n",
      "100%|██████████| 122/122 [00:05<00:00, 21.21it/s]\n"
     ]
    },
    {
     "name": "stdout",
     "output_type": "stream",
     "text": [
      "Epoch 15/15, Training Loss: 1.9110400435850792, Validation Loss: 1.9082000763689886\n"
     ]
    },
    {
     "data": {
      "image/png": "[encoded data removed]",
      "text/plain": [
       "<Figure size 1200x800 with 2 Axes>"
      ]
     },
     "metadata": {},
     "output_type": "display_data"
    }
   ],
   "source": [
    "# Train and validate the model\n",
    "trained_model = train_labrador(model, train_loader, test_loader, categorical_loss_fn, continuous_loss_fn, optimizer=optimizer, num_epochs=15, device=device, save_model=save_model, model_path=model_path, categorical_loss_weight=categorical_loss_weight, continuous_loss_weight=continuous_loss_weight, lr=lr)"
   ]
  },
  {
   "cell_type": "code",
   "execution_count": 102,
   "metadata": {
    "colab": {
     "base_uri": "https://localhost:8080/"
    },
    "id": "6UDAH1VUDEG8",
    "outputId": "5bba332c-a8fc-4e2e-a6fa-db60cfa01a33"
   },
   "outputs": [
    {
     "name": "stdout",
     "output_type": "stream",
     "text": [
      "{'[MASK]': 8, '[NULL]': 9, '[PAD]': 10, 'Wbc': 0, 'Bic': 1, 'Sod': 2, 'Hgb': 3, 'Plt': 4, 'Pot': 5, 'Ure': 6, 'Crt': 7}\n"
     ]
    }
   ],
   "source": [
    "dataset_test = LabradorDataset(continuous=lab_values_test, categorical=lab_ids_test, tokenizer=tokenizer, max_len=8, masking_prob=0)\n",
    "# Dataloader:\n",
    "test_loader = torch.utils.data.DataLoader(dataset_test, batch_size=batch_size, shuffle=False, num_workers=num_workers)"
   ]
  },
  {
   "cell_type": "code",
   "execution_count": null,
   "metadata": {
    "colab": {
     "base_uri": "https://localhost:8080/"
    },
    "id": "CWqlOQXAHRDO",
    "outputId": "87a4770e-01e7-423c-e685-13fee283a22a"
   },
   "outputs": [],
   "source": [
    "metrics = test_model(model, test_loader, device, COLUMNS)"
   ]
  },
  {
   "cell_type": "code",
   "execution_count": 49,
   "metadata": {
    "colab": {
     "base_uri": "https://localhost:8080/"
    },
    "id": "spY20UrsXZNC",
    "outputId": "a12a4483-888a-408c-c133-4be13d7b219c"
   },
   "outputs": [
    {
     "data": {
      "text/plain": [
       "{'Bic': {'rmse': [0.03037921029564815],\n",
       "  'mape': [0.14531462606901052],\n",
       "  'r2': [-0.019617405139207955]},\n",
       " 'Crt': {'rmse': [0.021070957063985433],\n",
       "  'mape': [0.8704646275272782],\n",
       "  'r2': [-0.07834770000758118]},\n",
       " 'Pot': {'rmse': [0.02298423125677432],\n",
       "  'mape': [0.13635105503982498],\n",
       "  'r2': [0.08565181042415926]},\n",
       " 'Sod': {'rmse': [0.03874158325880314],\n",
       "  'mape': [0.04704328706149929],\n",
       "  'r2': [-0.022956319097880984]},\n",
       " 'Ure': {'rmse': [0.04031676751461197],\n",
       "  'mape': [0.3791407531124362],\n",
       "  'r2': [0.5078218869370426]},\n",
       " 'Hgb': {'rmse': [0.10098323922337832],\n",
       "  'mape': [0.1606179488184385],\n",
       "  'r2': [-0.08349508278910589]},\n",
       " 'Plt': {'rmse': [0.042634675843707434],\n",
       "  'mape': [0.7243494488645746],\n",
       "  'r2': [-0.01513871320106519]},\n",
       " 'Wbc': {'rmse': [0.013419379341286512],\n",
       "  'mape': [1.0],\n",
       "  'r2': [-1.478061596588844]}}"
      ]
     },
     "execution_count": 49,
     "metadata": {},
     "output_type": "execute_result"
    }
   ],
   "source": [
    "metrics"
   ]
  },
  {
   "cell_type": "code",
   "execution_count": 105,
   "metadata": {
    "id": "-G_i_HhYXMN0"
   },
   "outputs": [],
   "source": [
    "with open(\"metrics_orig.csv\", \"w\") as f:\n",
    "    f.write(f\"Lab,{','.join(metrics['Bic'].keys())}\\n\")\n",
    "    for k, v in metrics.items():\n",
    "        f.write(f\"{k},{v['rmse'][0]},{v['mape'][0]},{v['r2'][0]}\\n\")"
   ]
  },
  {
   "cell_type": "code",
   "execution_count": 14,
   "metadata": {
    "colab": {
     "base_uri": "https://localhost:8080/"
    },
    "id": "LdEKPCi5a3a2",
    "outputId": "f0b7bac6-e40c-40bf-f2e3-6788e4f696f6"
   },
   "outputs": [
    {
     "name": "stdout",
     "output_type": "stream",
     "text": [
      "{'[MASK]': 9, '[NULL]': 10, '[PAD]': 11, 'Sod': 0, 'Time': 1, 'Wbc': 2, 'Pot': 3, 'Plt': 4, 'Crt': 5, 'Ure': 6, 'Hgb': 7, 'Bic': 8}\n"
     ]
    }
   ],
   "source": [
    "# DOWNSTREAM TASK\n",
    "\n",
    "dataset_test = LabradorDataset(continuous=lab_values_test, categorical=lab_ids_test, tokenizer=tokenizer, max_len=36, masking_prob=0.4)\n",
    "test_loader = torch.utils.data.DataLoader(dataset_test, batch_size=batch_size, shuffle=False, num_workers=num_workers)"
   ]
  },
  {
   "cell_type": "code",
   "execution_count": 15,
   "metadata": {
    "id": "E9UZOYOGedFF"
   },
   "outputs": [],
   "source": [
    "df = grouped_mrl.set_index(\"hadm_id\").loc[hid_test]"
   ]
  },
  {
   "cell_type": "code",
   "execution_count": 20,
   "metadata": {
    "colab": {
     "base_uri": "https://localhost:8080/"
    },
    "id": "4uzS7KnkatLc",
    "outputId": "ef5e6d9e-41d7-4f60-a191-ea6556d92d48"
   },
   "outputs": [
    {
     "name": "stderr",
     "output_type": "stream",
     "text": [
      "\r",
      "  0%|          | 0/122 [00:00<?, ?it/s]/usr/lib/python3.10/multiprocessing/popen_fork.py:66: RuntimeWarning: os.fork() was called. os.fork() is incompatible with multithreaded code, and JAX is multithreaded, so this will likely lead to a deadlock.\n",
      "  self.pid = os.fork()\n",
      "100%|██████████| 122/122 [02:01<00:00,  1.01it/s]\n"
     ]
    }
   ],
   "source": [
    "from tqdm import tqdm\n",
    "\n",
    "idx = 0\n",
    "with torch.no_grad():\n",
    "    for batch in tqdm(test_loader, leave=True):\n",
    "        input_ids = batch['input_ids'].to(device)\n",
    "        continuous = batch['continuous'].to(device)\n",
    "        attn_mask = batch['attention_mask'].to(device)\n",
    "        labels_continuous = batch['labels_continuous'].to(device)\n",
    "\n",
    "        # If no 0s in attention mask, set it to None\n",
    "        attn_mask_zero = (attn_mask == 0).any().item()\n",
    "        if attn_mask_zero == 0:\n",
    "            # print('No 0s in attention mask')\n",
    "            attn_mask = None\n",
    "\n",
    "        outputs = model(input_ids, continuous, attn_mask=attn_mask)\n",
    "        for k, o in enumerate(outputs['continuous_output']):\n",
    "            l = df.iloc[idx].lab_values.copy()\n",
    "            for i, x in enumerate(continuous[k]):\n",
    "                if x == 9:\n",
    "                    l[i] = o.cpu().numpy()[i].item()\n",
    "            df.iat[idx, -1] = [str(x) for x in l]\n",
    "            idx += 1"
   ]
  },
  {
   "cell_type": "code",
   "execution_count": 24,
   "metadata": {
    "id": "4qxNorU1eej7"
   },
   "outputs": [],
   "source": [
    "def format_test(df):\n",
    "    d = []\n",
    "    for i, row in df.iterrows():\n",
    "        if len(row.lab_ids) < 36:\n",
    "            continue\n",
    "        r = {\"hadm_id\": i}\n",
    "        for j in range(4):\n",
    "            for k in range(1, 9):\n",
    "                ind = j * 9 + k\n",
    "                r[row.lab_ids[ind] + str(j)] = row.lab_values[ind]\n",
    "        d.append(r)\n",
    "    return pd.DataFrame(d)"
   ]
  },
  {
   "cell_type": "code",
   "execution_count": 27,
   "metadata": {
    "id": "jKvzT9bDgN-W"
   },
   "outputs": [],
   "source": [
    "df = format_test(df)\n",
    "df.to_csv(\"data/test_impute.csv\")\n",
    "\n",
    "orig = format_test(grouped_mrl.set_index(\"hadm_id\").loc[hid_test])\n",
    "orig.to_csv(\"data/test_orig.csv\")"
   ]
  },
  {
   "cell_type": "code",
   "execution_count": 69,
   "metadata": {
    "colab": {
     "base_uri": "https://localhost:8080/",
     "height": 256
    },
    "id": "XJn6pP0QgZBP",
    "outputId": "9abcea95-9e34-4b9c-b27e-d611f24c1b1d"
   },
   "outputs": [
    {
     "data": {
      "application/vnd.google.colaboratory.intrinsic+json": {
       "type": "dataframe",
       "variable_name": "out"
      },
      "text/html": [
       "\n",
       "  <div id=\"df-b271800c-8a49-420c-bfb9-9bdaa1016575\" class=\"colab-df-container\">\n",
       "    <div>\n",
       "<style scoped>\n",
       "    .dataframe tbody tr th:only-of-type {\n",
       "        vertical-align: middle;\n",
       "    }\n",
       "\n",
       "    .dataframe tbody tr th {\n",
       "        vertical-align: top;\n",
       "    }\n",
       "\n",
       "    .dataframe thead th {\n",
       "        text-align: right;\n",
       "    }\n",
       "</style>\n",
       "<table border=\"1\" class=\"dataframe\">\n",
       "  <thead>\n",
       "    <tr style=\"text-align: right;\">\n",
       "      <th></th>\n",
       "      <th>hadm_id</th>\n",
       "      <th>Bic0</th>\n",
       "      <th>Crt0</th>\n",
       "      <th>Pot0</th>\n",
       "      <th>Sod0</th>\n",
       "      <th>Ure0</th>\n",
       "      <th>Hgb0</th>\n",
       "      <th>Plt0</th>\n",
       "      <th>Wbc0</th>\n",
       "      <th>Bic1</th>\n",
       "      <th>...</th>\n",
       "      <th>Plt2</th>\n",
       "      <th>Wbc2</th>\n",
       "      <th>Bic3</th>\n",
       "      <th>Crt3</th>\n",
       "      <th>Pot3</th>\n",
       "      <th>Sod3</th>\n",
       "      <th>Ure3</th>\n",
       "      <th>Hgb3</th>\n",
       "      <th>Plt3</th>\n",
       "      <th>Wbc3</th>\n",
       "    </tr>\n",
       "  </thead>\n",
       "  <tbody>\n",
       "    <tr>\n",
       "      <th>0</th>\n",
       "      <td>28801378.0</td>\n",
       "      <td>0.19230769230769232</td>\n",
       "      <td>0.005405405405405406</td>\n",
       "      <td>0.171875</td>\n",
       "      <td>0.6037735849056605</td>\n",
       "      <td>0.14328762888908386</td>\n",
       "      <td>0.46905234456062317</td>\n",
       "      <td>0.14328762888908386</td>\n",
       "      <td>0.009222361379938518</td>\n",
       "      <td>0.19436319172382355</td>\n",
       "      <td>...</td>\n",
       "      <td>0.11200923787528867</td>\n",
       "      <td>0.00899464875327337</td>\n",
       "      <td>0.23076923076923078</td>\n",
       "      <td>0.0</td>\n",
       "      <td>0.116545669734478</td>\n",
       "      <td>0.5754716981132075</td>\n",
       "      <td>0.01639344262295082</td>\n",
       "      <td>0.4449541284403669</td>\n",
       "      <td>0.096612779060816</td>\n",
       "      <td>0.0</td>\n",
       "    </tr>\n",
       "    <tr>\n",
       "      <th>1</th>\n",
       "      <td>24010811.0</td>\n",
       "      <td>0.16153846153846155</td>\n",
       "      <td>0.043243243243243246</td>\n",
       "      <td>0.125</td>\n",
       "      <td>0.2075914442539215</td>\n",
       "      <td>0.3377049180327869</td>\n",
       "      <td>0.41463738679885864</td>\n",
       "      <td>0.0703812912106514</td>\n",
       "      <td>0.0</td>\n",
       "      <td>0.2075914442539215</td>\n",
       "      <td>...</td>\n",
       "      <td>0.2075914442539215</td>\n",
       "      <td>0.011613343959922577</td>\n",
       "      <td>0.18461538461538463</td>\n",
       "      <td>0.03513513513513514</td>\n",
       "      <td>0.13020643591880798</td>\n",
       "      <td>0.6189209222793579</td>\n",
       "      <td>0.2075914442539215</td>\n",
       "      <td>0.40366972477064217</td>\n",
       "      <td>0.06043110084680523</td>\n",
       "      <td>0.006945235113287032</td>\n",
       "    </tr>\n",
       "    <tr>\n",
       "      <th>2</th>\n",
       "      <td>25171589.0</td>\n",
       "      <td>0.22056101262569427</td>\n",
       "      <td>0.02837837837837838</td>\n",
       "      <td>0.1875</td>\n",
       "      <td>0.5754716981132075</td>\n",
       "      <td>0.22056101262569427</td>\n",
       "      <td>0.40366972477064217</td>\n",
       "      <td>0.04340183734893799</td>\n",
       "      <td>0.006717522486621884</td>\n",
       "      <td>0.16808918118476868</td>\n",
       "      <td>...</td>\n",
       "      <td>0.06235565819861432</td>\n",
       "      <td>0.22056101262569427</td>\n",
       "      <td>0.16808918118476868</td>\n",
       "      <td>0.04624431952834129</td>\n",
       "      <td>0.1171875</td>\n",
       "      <td>0.6377491354942322</td>\n",
       "      <td>0.04262295081967213</td>\n",
       "      <td>0.22056101262569427</td>\n",
       "      <td>0.06581986143187066</td>\n",
       "      <td>0.007059091426619607</td>\n",
       "    </tr>\n",
       "    <tr>\n",
       "      <th>3</th>\n",
       "      <td>25142314.0</td>\n",
       "      <td>0.16923076923076924</td>\n",
       "      <td>0.0</td>\n",
       "      <td>0.14453125</td>\n",
       "      <td>0.5660377358490567</td>\n",
       "      <td>0.07971347123384476</td>\n",
       "      <td>0.38532110091743116</td>\n",
       "      <td>0.1193225558121632</td>\n",
       "      <td>0.004326539906637823</td>\n",
       "      <td>0.17069444060325623</td>\n",
       "      <td>...</td>\n",
       "      <td>0.0961233526468277</td>\n",
       "      <td>0.007286804053284756</td>\n",
       "      <td>0.17692307692307693</td>\n",
       "      <td>0.0039957850240170956</td>\n",
       "      <td>0.14453125</td>\n",
       "      <td>0.6033903956413269</td>\n",
       "      <td>0.07868852459016393</td>\n",
       "      <td>0.3907417058944702</td>\n",
       "      <td>0.1173979984603541</td>\n",
       "      <td>0.00421268359330525</td>\n",
       "    </tr>\n",
       "    <tr>\n",
       "      <th>4</th>\n",
       "      <td>22089864.0</td>\n",
       "      <td>0.06259986758232117</td>\n",
       "      <td>0.0</td>\n",
       "      <td>0.11554412543773651</td>\n",
       "      <td>0.5283018867924529</td>\n",
       "      <td>0.03945424035191536</td>\n",
       "      <td>0.48165137614678893</td>\n",
       "      <td>0.046189376443418015</td>\n",
       "      <td>0.02459296367983605</td>\n",
       "      <td>0.14615384615384616</td>\n",
       "      <td>...</td>\n",
       "      <td>0.04503464203233256</td>\n",
       "      <td>0.06259986758232117</td>\n",
       "      <td>0.06259986758232117</td>\n",
       "      <td>0.012162162162162163</td>\n",
       "      <td>0.06259986758232117</td>\n",
       "      <td>0.6320754716981132</td>\n",
       "      <td>0.03945424035191536</td>\n",
       "      <td>0.34862385321100914</td>\n",
       "      <td>0.05350269438029253</td>\n",
       "      <td>0.0</td>\n",
       "    </tr>\n",
       "  </tbody>\n",
       "</table>\n",
       "<p>5 rows × 33 columns</p>\n",
       "</div>\n",
       "    <div class=\"colab-df-buttons\">\n",
       "\n",
       "  <div class=\"colab-df-container\">\n",
       "    <button class=\"colab-df-convert\" onclick=\"convertToInteractive('df-b271800c-8a49-420c-bfb9-9bdaa1016575')\"\n",
       "            title=\"Convert this dataframe to an interactive table.\"\n",
       "            style=\"display:none;\">\n",
       "\n",
       "  <svg xmlns=\"http://www.w3.org/2000/svg\" height=\"24px\" viewBox=\"0 -960 960 960\">\n",
       "    <path d=\"M120-120v-720h720v720H120Zm60-500h600v-160H180v160Zm220 220h160v-160H400v160Zm0 220h160v-160H400v160ZM180-400h160v-160H180v160Zm440 0h160v-160H620v160ZM180-180h160v-160H180v160Zm440 0h160v-160H620v160Z\"/>\n",
       "  </svg>\n",
       "    </button>\n",
       "\n",
       "  <style>\n",
       "    .colab-df-container {\n",
       "      display:flex;\n",
       "      gap: 12px;\n",
       "    }\n",
       "\n",
       "    .colab-df-convert {\n",
       "      background-color: #E8F0FE;\n",
       "      border: none;\n",
       "      border-radius: 50%;\n",
       "      cursor: pointer;\n",
       "      display: none;\n",
       "      fill: #1967D2;\n",
       "      height: 32px;\n",
       "      padding: 0 0 0 0;\n",
       "      width: 32px;\n",
       "    }\n",
       "\n",
       "    .colab-df-convert:hover {\n",
       "      background-color: #E2EBFA;\n",
       "      box-shadow: 0px 1px 2px rgba(60, 64, 67, 0.3), 0px 1px 3px 1px rgba(60, 64, 67, 0.15);\n",
       "      fill: #174EA6;\n",
       "    }\n",
       "\n",
       "    .colab-df-buttons div {\n",
       "      margin-bottom: 4px;\n",
       "    }\n",
       "\n",
       "    [theme=dark] .colab-df-convert {\n",
       "      background-color: #3B4455;\n",
       "      fill: #D2E3FC;\n",
       "    }\n",
       "\n",
       "    [theme=dark] .colab-df-convert:hover {\n",
       "      background-color: #434B5C;\n",
       "      box-shadow: 0px 1px 3px 1px rgba(0, 0, 0, 0.15);\n",
       "      filter: drop-shadow(0px 1px 2px rgba(0, 0, 0, 0.3));\n",
       "      fill: #FFFFFF;\n",
       "    }\n",
       "  </style>\n",
       "\n",
       "    <script>\n",
       "      const buttonEl =\n",
       "        document.querySelector('#df-b271800c-8a49-420c-bfb9-9bdaa1016575 button.colab-df-convert');\n",
       "      buttonEl.style.display =\n",
       "        google.colab.kernel.accessAllowed ? 'block' : 'none';\n",
       "\n",
       "      async function convertToInteractive(key) {\n",
       "        const element = document.querySelector('#df-b271800c-8a49-420c-bfb9-9bdaa1016575');\n",
       "        const dataTable =\n",
       "          await google.colab.kernel.invokeFunction('convertToInteractive',\n",
       "                                                    [key], {});\n",
       "        if (!dataTable) return;\n",
       "\n",
       "        const docLinkHtml = 'Like what you see? Visit the ' +\n",
       "          '<a target=\"_blank\" href=https://colab.research.google.com/notebooks/data_table.ipynb>data table notebook</a>'\n",
       "          + ' to learn more about interactive tables.';\n",
       "        element.innerHTML = '';\n",
       "        dataTable['output_type'] = 'display_data';\n",
       "        await google.colab.output.renderOutput(dataTable, element);\n",
       "        const docLink = document.createElement('div');\n",
       "        docLink.innerHTML = docLinkHtml;\n",
       "        element.appendChild(docLink);\n",
       "      }\n",
       "    </script>\n",
       "  </div>\n",
       "\n",
       "\n",
       "<div id=\"df-e3102de9-83a2-44af-987b-66ae453a0e8f\">\n",
       "  <button class=\"colab-df-quickchart\" onclick=\"quickchart('df-e3102de9-83a2-44af-987b-66ae453a0e8f')\"\n",
       "            title=\"Suggest charts\"\n",
       "            style=\"display:none;\">\n",
       "\n",
       "<svg xmlns=\"http://www.w3.org/2000/svg\" height=\"24px\"viewBox=\"0 0 24 24\"\n",
       "     width=\"24px\">\n",
       "    <g>\n",
       "        <path d=\"M19 3H5c-1.1 0-2 .9-2 2v14c0 1.1.9 2 2 2h14c1.1 0 2-.9 2-2V5c0-1.1-.9-2-2-2zM9 17H7v-7h2v7zm4 0h-2V7h2v10zm4 0h-2v-4h2v4z\"/>\n",
       "    </g>\n",
       "</svg>\n",
       "  </button>\n",
       "\n",
       "<style>\n",
       "  .colab-df-quickchart {\n",
       "      --bg-color: #E8F0FE;\n",
       "      --fill-color: #1967D2;\n",
       "      --hover-bg-color: #E2EBFA;\n",
       "      --hover-fill-color: #174EA6;\n",
       "      --disabled-fill-color: #AAA;\n",
       "      --disabled-bg-color: #DDD;\n",
       "  }\n",
       "\n",
       "  [theme=dark] .colab-df-quickchart {\n",
       "      --bg-color: #3B4455;\n",
       "      --fill-color: #D2E3FC;\n",
       "      --hover-bg-color: #434B5C;\n",
       "      --hover-fill-color: #FFFFFF;\n",
       "      --disabled-bg-color: #3B4455;\n",
       "      --disabled-fill-color: #666;\n",
       "  }\n",
       "\n",
       "  .colab-df-quickchart {\n",
       "    background-color: var(--bg-color);\n",
       "    border: none;\n",
       "    border-radius: 50%;\n",
       "    cursor: pointer;\n",
       "    display: none;\n",
       "    fill: var(--fill-color);\n",
       "    height: 32px;\n",
       "    padding: 0;\n",
       "    width: 32px;\n",
       "  }\n",
       "\n",
       "  .colab-df-quickchart:hover {\n",
       "    background-color: var(--hover-bg-color);\n",
       "    box-shadow: 0 1px 2px rgba(60, 64, 67, 0.3), 0 1px 3px 1px rgba(60, 64, 67, 0.15);\n",
       "    fill: var(--button-hover-fill-color);\n",
       "  }\n",
       "\n",
       "  .colab-df-quickchart-complete:disabled,\n",
       "  .colab-df-quickchart-complete:disabled:hover {\n",
       "    background-color: var(--disabled-bg-color);\n",
       "    fill: var(--disabled-fill-color);\n",
       "    box-shadow: none;\n",
       "  }\n",
       "\n",
       "  .colab-df-spinner {\n",
       "    border: 2px solid var(--fill-color);\n",
       "    border-color: transparent;\n",
       "    border-bottom-color: var(--fill-color);\n",
       "    animation:\n",
       "      spin 1s steps(1) infinite;\n",
       "  }\n",
       "\n",
       "  @keyframes spin {\n",
       "    0% {\n",
       "      border-color: transparent;\n",
       "      border-bottom-color: var(--fill-color);\n",
       "      border-left-color: var(--fill-color);\n",
       "    }\n",
       "    20% {\n",
       "      border-color: transparent;\n",
       "      border-left-color: var(--fill-color);\n",
       "      border-top-color: var(--fill-color);\n",
       "    }\n",
       "    30% {\n",
       "      border-color: transparent;\n",
       "      border-left-color: var(--fill-color);\n",
       "      border-top-color: var(--fill-color);\n",
       "      border-right-color: var(--fill-color);\n",
       "    }\n",
       "    40% {\n",
       "      border-color: transparent;\n",
       "      border-right-color: var(--fill-color);\n",
       "      border-top-color: var(--fill-color);\n",
       "    }\n",
       "    60% {\n",
       "      border-color: transparent;\n",
       "      border-right-color: var(--fill-color);\n",
       "    }\n",
       "    80% {\n",
       "      border-color: transparent;\n",
       "      border-right-color: var(--fill-color);\n",
       "      border-bottom-color: var(--fill-color);\n",
       "    }\n",
       "    90% {\n",
       "      border-color: transparent;\n",
       "      border-bottom-color: var(--fill-color);\n",
       "    }\n",
       "  }\n",
       "</style>\n",
       "\n",
       "  <script>\n",
       "    async function quickchart(key) {\n",
       "      const quickchartButtonEl =\n",
       "        document.querySelector('#' + key + ' button');\n",
       "      quickchartButtonEl.disabled = true;  // To prevent multiple clicks.\n",
       "      quickchartButtonEl.classList.add('colab-df-spinner');\n",
       "      try {\n",
       "        const charts = await google.colab.kernel.invokeFunction(\n",
       "            'suggestCharts', [key], {});\n",
       "      } catch (error) {\n",
       "        console.error('Error during call to suggestCharts:', error);\n",
       "      }\n",
       "      quickchartButtonEl.classList.remove('colab-df-spinner');\n",
       "      quickchartButtonEl.classList.add('colab-df-quickchart-complete');\n",
       "    }\n",
       "    (() => {\n",
       "      let quickchartButtonEl =\n",
       "        document.querySelector('#df-e3102de9-83a2-44af-987b-66ae453a0e8f button');\n",
       "      quickchartButtonEl.style.display =\n",
       "        google.colab.kernel.accessAllowed ? 'block' : 'none';\n",
       "    })();\n",
       "  </script>\n",
       "</div>\n",
       "\n",
       "    </div>\n",
       "  </div>\n"
      ],
      "text/plain": [
       "      hadm_id                 Bic0                  Crt0                 Pot0  \\\n",
       "0  28801378.0  0.19230769230769232  0.005405405405405406             0.171875   \n",
       "1  24010811.0  0.16153846153846155  0.043243243243243246                0.125   \n",
       "2  25171589.0  0.22056101262569427   0.02837837837837838               0.1875   \n",
       "3  25142314.0  0.16923076923076924                   0.0           0.14453125   \n",
       "4  22089864.0  0.06259986758232117                   0.0  0.11554412543773651   \n",
       "\n",
       "                 Sod0                 Ure0                 Hgb0  \\\n",
       "0  0.6037735849056605  0.14328762888908386  0.46905234456062317   \n",
       "1  0.2075914442539215   0.3377049180327869  0.41463738679885864   \n",
       "2  0.5754716981132075  0.22056101262569427  0.40366972477064217   \n",
       "3  0.5660377358490567  0.07971347123384476  0.38532110091743116   \n",
       "4  0.5283018867924529  0.03945424035191536  0.48165137614678893   \n",
       "\n",
       "                   Plt0                  Wbc0                 Bic1  ...  \\\n",
       "0   0.14328762888908386  0.009222361379938518  0.19436319172382355  ...   \n",
       "1    0.0703812912106514                   0.0   0.2075914442539215  ...   \n",
       "2   0.04340183734893799  0.006717522486621884  0.16808918118476868  ...   \n",
       "3    0.1193225558121632  0.004326539906637823  0.17069444060325623  ...   \n",
       "4  0.046189376443418015   0.02459296367983605  0.14615384615384616  ...   \n",
       "\n",
       "                  Plt2                  Wbc2                 Bic3  \\\n",
       "0  0.11200923787528867   0.00899464875327337  0.23076923076923078   \n",
       "1   0.2075914442539215  0.011613343959922577  0.18461538461538463   \n",
       "2  0.06235565819861432   0.22056101262569427  0.16808918118476868   \n",
       "3   0.0961233526468277  0.007286804053284756  0.17692307692307693   \n",
       "4  0.04503464203233256   0.06259986758232117  0.06259986758232117   \n",
       "\n",
       "                    Crt3                 Pot3                Sod3  \\\n",
       "0                    0.0    0.116545669734478  0.5754716981132075   \n",
       "1    0.03513513513513514  0.13020643591880798  0.6189209222793579   \n",
       "2    0.04624431952834129            0.1171875  0.6377491354942322   \n",
       "3  0.0039957850240170956           0.14453125  0.6033903956413269   \n",
       "4   0.012162162162162163  0.06259986758232117  0.6320754716981132   \n",
       "\n",
       "                  Ure3                 Hgb3                 Plt3  \\\n",
       "0  0.01639344262295082   0.4449541284403669    0.096612779060816   \n",
       "1   0.2075914442539215  0.40366972477064217  0.06043110084680523   \n",
       "2  0.04262295081967213  0.22056101262569427  0.06581986143187066   \n",
       "3  0.07868852459016393   0.3907417058944702   0.1173979984603541   \n",
       "4  0.03945424035191536  0.34862385321100914  0.05350269438029253   \n",
       "\n",
       "                   Wbc3  \n",
       "0                   0.0  \n",
       "1  0.006945235113287032  \n",
       "2  0.007059091426619607  \n",
       "3   0.00421268359330525  \n",
       "4                   0.0  \n",
       "\n",
       "[5 rows x 33 columns]"
      ]
     },
     "execution_count": 69,
     "metadata": {},
     "output_type": "execute_result"
    }
   ],
   "source": [
    "out.head()"
   ]
  }
 ],
 "metadata": {
  "colab": {
   "provenance": []
  },
  "kernelspec": {
   "display_name": "Python 3 (ipykernel)",
   "language": "python",
   "name": "python3"
  },
  "language_info": {
   "codemirror_mode": {
    "name": "ipython",
    "version": 3
   },
   "file_extension": ".py",
   "mimetype": "text/x-python",
   "name": "python",
   "nbconvert_exporter": "python",
   "pygments_lexer": "ipython3",
   "version": "3.12.3"
  }
 },
 "nbformat": 4,
 "nbformat_minor": 4
}
